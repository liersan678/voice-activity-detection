{
  "nbformat": 4,
  "nbformat_minor": 0,
  "metadata": {
    "colab": {
      "provenance": [],
      "mount_file_id": "165YPTt6sXglpbrUtlEmijNm47VhlKdX7",
      "authorship_tag": "ABX9TyPjRKmg4Rt5A4deFlbWg9F8",
      "include_colab_link": true
    },
    "kernelspec": {
      "name": "python3",
      "display_name": "Python 3"
    },
    "language_info": {
      "name": "python"
    }
  },
  "cells": [
    {
      "cell_type": "markdown",
      "metadata": {
        "id": "view-in-github",
        "colab_type": "text"
      },
      "source": [
        "<a href=\"https://colab.research.google.com/github/liersan678/voice-activity-detection/blob/main/Untitled10.ipynb\" target=\"_parent\"><img src=\"https://colab.research.google.com/assets/colab-badge.svg\" alt=\"Open In Colab\"/></a>"
      ]
    },
    {
      "cell_type": "code",
      "execution_count": null,
      "metadata": {
        "colab": {
          "base_uri": "https://localhost:8080/"
        },
        "id": "EAm7SnhHAE8T",
        "outputId": "581ac337-530b-452c-8ae0-9bca592aff26"
      },
      "outputs": [
        {
          "output_type": "stream",
          "name": "stdout",
          "text": [
            "Cloning into 'fsmn-vad'...\n",
            "remote: Enumerating objects: 326, done.\u001b[K\n",
            "remote: Counting objects: 100% (326/326), done.\u001b[K\n",
            "remote: Compressing objects: 100% (180/180), done.\u001b[K\n",
            "remote: Total 326 (delta 159), reused 271 (delta 107), pack-reused 0\u001b[K\n",
            "Receiving objects: 100% (326/326), 4.80 MiB | 18.75 MiB/s, done.\n",
            "Resolving deltas: 100% (159/159), done.\n",
            "running install\n",
            "/usr/local/lib/python3.10/dist-packages/setuptools/command/install.py:34: SetuptoolsDeprecationWarning: setup.py install is deprecated. Use build and pip and other standards-based tools.\n",
            "  warnings.warn(\n",
            "/usr/local/lib/python3.10/dist-packages/setuptools/command/easy_install.py:144: EasyInstallDeprecationWarning: easy_install command is deprecated. Use build and pip and other standards-based tools.\n",
            "  warnings.warn(\n",
            "running bdist_egg\n",
            "running egg_info\n",
            "creating fsmnvad.egg-info\n",
            "writing fsmnvad.egg-info/PKG-INFO\n",
            "writing dependency_links to fsmnvad.egg-info/dependency_links.txt\n",
            "writing requirements to fsmnvad.egg-info/requires.txt\n",
            "writing top-level names to fsmnvad.egg-info/top_level.txt\n",
            "writing manifest file 'fsmnvad.egg-info/SOURCES.txt'\n",
            "reading manifest file 'fsmnvad.egg-info/SOURCES.txt'\n",
            "reading manifest template 'MANIFEST.in'\n",
            "adding license file 'LICENSE'\n",
            "writing manifest file 'fsmnvad.egg-info/SOURCES.txt'\n",
            "installing library code to build/bdist.linux-x86_64/egg\n",
            "running install_lib\n",
            "running build_py\n",
            "creating build\n",
            "creating build/lib\n",
            "creating build/lib/fsmnvad\n",
            "copying fsmnvad/__init__.py -> build/lib/fsmnvad\n",
            "copying fsmnvad/fsmnvad.py -> build/lib/fsmnvad\n",
            "creating build/lib/fsmn-vad\n",
            "copying fsmn-vad/setup.py -> build/lib/fsmn-vad\n",
            "creating build/lib/test\n",
            "copying test/test.py -> build/lib/test\n",
            "creating build/lib/fsmnvad/runtime\n",
            "copying fsmnvad/runtime/__init__.py -> build/lib/fsmnvad/runtime\n",
            "creating build/lib/fsmnvad/runtime/src\n",
            "copying fsmnvad/runtime/src/__init__.py -> build/lib/fsmnvad/runtime/src\n",
            "creating build/lib/fsmnvad/runtime/src/fsmnvad\n",
            "copying fsmnvad/runtime/src/fsmnvad/Speech2VadSegmentOnline.py -> build/lib/fsmnvad/runtime/src/fsmnvad\n",
            "copying fsmnvad/runtime/src/fsmnvad/Speech2VadSegmentOffline.py -> build/lib/fsmnvad/runtime/src/fsmnvad\n",
            "copying fsmnvad/runtime/src/fsmnvad/__init__.py -> build/lib/fsmnvad/runtime/src/fsmnvad\n",
            "copying fsmnvad/runtime/src/fsmnvad/VadOrtInferSession.py -> build/lib/fsmnvad/runtime/src/fsmnvad\n",
            "creating build/lib/fsmnvad/runtime/src/utils\n",
            "copying fsmnvad/runtime/src/utils/WavFrontend.py -> build/lib/fsmnvad/runtime/src/utils\n",
            "copying fsmnvad/runtime/src/utils/test_onnx_vad.py -> build/lib/fsmnvad/runtime/src/utils\n",
            "copying fsmnvad/runtime/src/utils/AudioHelper.py -> build/lib/fsmnvad/runtime/src/utils\n",
            "copying fsmnvad/runtime/src/utils/__init__.py -> build/lib/fsmnvad/runtime/src/utils\n",
            "copying fsmnvad/runtime/src/utils/logger.py -> build/lib/fsmnvad/runtime/src/utils\n",
            "copying fsmnvad/runtime/src/utils/tools.py -> build/lib/fsmnvad/runtime/src/utils\n",
            "creating build/lib/fsmn-vad/fsmnvad\n",
            "copying fsmn-vad/fsmnvad/__init__.py -> build/lib/fsmn-vad/fsmnvad\n",
            "copying fsmn-vad/fsmnvad/fsmnvad.py -> build/lib/fsmn-vad/fsmnvad\n",
            "creating build/lib/fsmn-vad/test\n",
            "copying fsmn-vad/test/test.py -> build/lib/fsmn-vad/test\n",
            "creating build/lib/fsmn-vad/fsmnvad/runtime\n",
            "copying fsmn-vad/fsmnvad/runtime/__init__.py -> build/lib/fsmn-vad/fsmnvad/runtime\n",
            "creating build/lib/fsmn-vad/fsmnvad/runtime/src\n",
            "copying fsmn-vad/fsmnvad/runtime/src/__init__.py -> build/lib/fsmn-vad/fsmnvad/runtime/src\n",
            "creating build/lib/fsmn-vad/fsmnvad/runtime/src/fsmnvad\n",
            "copying fsmn-vad/fsmnvad/runtime/src/fsmnvad/Speech2VadSegmentOnline.py -> build/lib/fsmn-vad/fsmnvad/runtime/src/fsmnvad\n",
            "copying fsmn-vad/fsmnvad/runtime/src/fsmnvad/Speech2VadSegmentOffline.py -> build/lib/fsmn-vad/fsmnvad/runtime/src/fsmnvad\n",
            "copying fsmn-vad/fsmnvad/runtime/src/fsmnvad/__init__.py -> build/lib/fsmn-vad/fsmnvad/runtime/src/fsmnvad\n",
            "copying fsmn-vad/fsmnvad/runtime/src/fsmnvad/VadOrtInferSession.py -> build/lib/fsmn-vad/fsmnvad/runtime/src/fsmnvad\n",
            "creating build/lib/fsmn-vad/fsmnvad/runtime/src/utils\n",
            "copying fsmn-vad/fsmnvad/runtime/src/utils/WavFrontend.py -> build/lib/fsmn-vad/fsmnvad/runtime/src/utils\n",
            "copying fsmn-vad/fsmnvad/runtime/src/utils/test_onnx_vad.py -> build/lib/fsmn-vad/fsmnvad/runtime/src/utils\n",
            "copying fsmn-vad/fsmnvad/runtime/src/utils/AudioHelper.py -> build/lib/fsmn-vad/fsmnvad/runtime/src/utils\n",
            "copying fsmn-vad/fsmnvad/runtime/src/utils/__init__.py -> build/lib/fsmn-vad/fsmnvad/runtime/src/utils\n",
            "copying fsmn-vad/fsmnvad/runtime/src/utils/logger.py -> build/lib/fsmn-vad/fsmnvad/runtime/src/utils\n",
            "copying fsmn-vad/fsmnvad/runtime/src/utils/tools.py -> build/lib/fsmn-vad/fsmnvad/runtime/src/utils\n",
            "creating build/lib/fsmnvad/config\n",
            "copying fsmnvad/config/config.yaml -> build/lib/fsmnvad/config\n",
            "creating build/lib/fsmnvad/runtime/onnx\n",
            "creating build/lib/fsmnvad/runtime/onnx/vad\n",
            "creating build/lib/fsmnvad/runtime/onnx/vad/onnx\n",
            "copying fsmnvad/runtime/onnx/vad/onnx/am.mvn -> build/lib/fsmnvad/runtime/onnx/vad/onnx\n",
            "copying fsmnvad/runtime/onnx/vad/onnx/fsmnvad-offline.onnx -> build/lib/fsmnvad/runtime/onnx/vad/onnx\n",
            "copying fsmnvad/runtime/onnx/vad/onnx/fsmnvad-online.onnx -> build/lib/fsmnvad/runtime/onnx/vad/onnx\n",
            "creating build/bdist.linux-x86_64\n",
            "creating build/bdist.linux-x86_64/egg\n",
            "creating build/bdist.linux-x86_64/egg/fsmnvad\n",
            "creating build/bdist.linux-x86_64/egg/fsmnvad/config\n",
            "copying build/lib/fsmnvad/config/config.yaml -> build/bdist.linux-x86_64/egg/fsmnvad/config\n",
            "copying build/lib/fsmnvad/__init__.py -> build/bdist.linux-x86_64/egg/fsmnvad\n",
            "creating build/bdist.linux-x86_64/egg/fsmnvad/runtime\n",
            "creating build/bdist.linux-x86_64/egg/fsmnvad/runtime/onnx\n",
            "creating build/bdist.linux-x86_64/egg/fsmnvad/runtime/onnx/vad\n",
            "creating build/bdist.linux-x86_64/egg/fsmnvad/runtime/onnx/vad/onnx\n",
            "copying build/lib/fsmnvad/runtime/onnx/vad/onnx/fsmnvad-offline.onnx -> build/bdist.linux-x86_64/egg/fsmnvad/runtime/onnx/vad/onnx\n",
            "copying build/lib/fsmnvad/runtime/onnx/vad/onnx/fsmnvad-online.onnx -> build/bdist.linux-x86_64/egg/fsmnvad/runtime/onnx/vad/onnx\n",
            "copying build/lib/fsmnvad/runtime/onnx/vad/onnx/am.mvn -> build/bdist.linux-x86_64/egg/fsmnvad/runtime/onnx/vad/onnx\n",
            "creating build/bdist.linux-x86_64/egg/fsmnvad/runtime/src\n",
            "creating build/bdist.linux-x86_64/egg/fsmnvad/runtime/src/fsmnvad\n",
            "copying build/lib/fsmnvad/runtime/src/fsmnvad/Speech2VadSegmentOnline.py -> build/bdist.linux-x86_64/egg/fsmnvad/runtime/src/fsmnvad\n",
            "copying build/lib/fsmnvad/runtime/src/fsmnvad/Speech2VadSegmentOffline.py -> build/bdist.linux-x86_64/egg/fsmnvad/runtime/src/fsmnvad\n",
            "copying build/lib/fsmnvad/runtime/src/fsmnvad/__init__.py -> build/bdist.linux-x86_64/egg/fsmnvad/runtime/src/fsmnvad\n",
            "copying build/lib/fsmnvad/runtime/src/fsmnvad/VadOrtInferSession.py -> build/bdist.linux-x86_64/egg/fsmnvad/runtime/src/fsmnvad\n",
            "creating build/bdist.linux-x86_64/egg/fsmnvad/runtime/src/utils\n",
            "copying build/lib/fsmnvad/runtime/src/utils/WavFrontend.py -> build/bdist.linux-x86_64/egg/fsmnvad/runtime/src/utils\n",
            "copying build/lib/fsmnvad/runtime/src/utils/test_onnx_vad.py -> build/bdist.linux-x86_64/egg/fsmnvad/runtime/src/utils\n",
            "copying build/lib/fsmnvad/runtime/src/utils/AudioHelper.py -> build/bdist.linux-x86_64/egg/fsmnvad/runtime/src/utils\n",
            "copying build/lib/fsmnvad/runtime/src/utils/__init__.py -> build/bdist.linux-x86_64/egg/fsmnvad/runtime/src/utils\n",
            "copying build/lib/fsmnvad/runtime/src/utils/logger.py -> build/bdist.linux-x86_64/egg/fsmnvad/runtime/src/utils\n",
            "copying build/lib/fsmnvad/runtime/src/utils/tools.py -> build/bdist.linux-x86_64/egg/fsmnvad/runtime/src/utils\n",
            "copying build/lib/fsmnvad/runtime/src/__init__.py -> build/bdist.linux-x86_64/egg/fsmnvad/runtime/src\n",
            "copying build/lib/fsmnvad/runtime/__init__.py -> build/bdist.linux-x86_64/egg/fsmnvad/runtime\n",
            "copying build/lib/fsmnvad/fsmnvad.py -> build/bdist.linux-x86_64/egg/fsmnvad\n",
            "creating build/bdist.linux-x86_64/egg/fsmn-vad\n",
            "creating build/bdist.linux-x86_64/egg/fsmn-vad/fsmnvad\n",
            "copying build/lib/fsmn-vad/fsmnvad/__init__.py -> build/bdist.linux-x86_64/egg/fsmn-vad/fsmnvad\n",
            "creating build/bdist.linux-x86_64/egg/fsmn-vad/fsmnvad/runtime\n",
            "creating build/bdist.linux-x86_64/egg/fsmn-vad/fsmnvad/runtime/src\n",
            "creating build/bdist.linux-x86_64/egg/fsmn-vad/fsmnvad/runtime/src/fsmnvad\n",
            "copying build/lib/fsmn-vad/fsmnvad/runtime/src/fsmnvad/Speech2VadSegmentOnline.py -> build/bdist.linux-x86_64/egg/fsmn-vad/fsmnvad/runtime/src/fsmnvad\n",
            "copying build/lib/fsmn-vad/fsmnvad/runtime/src/fsmnvad/Speech2VadSegmentOffline.py -> build/bdist.linux-x86_64/egg/fsmn-vad/fsmnvad/runtime/src/fsmnvad\n",
            "copying build/lib/fsmn-vad/fsmnvad/runtime/src/fsmnvad/__init__.py -> build/bdist.linux-x86_64/egg/fsmn-vad/fsmnvad/runtime/src/fsmnvad\n",
            "copying build/lib/fsmn-vad/fsmnvad/runtime/src/fsmnvad/VadOrtInferSession.py -> build/bdist.linux-x86_64/egg/fsmn-vad/fsmnvad/runtime/src/fsmnvad\n",
            "creating build/bdist.linux-x86_64/egg/fsmn-vad/fsmnvad/runtime/src/utils\n",
            "copying build/lib/fsmn-vad/fsmnvad/runtime/src/utils/WavFrontend.py -> build/bdist.linux-x86_64/egg/fsmn-vad/fsmnvad/runtime/src/utils\n",
            "copying build/lib/fsmn-vad/fsmnvad/runtime/src/utils/test_onnx_vad.py -> build/bdist.linux-x86_64/egg/fsmn-vad/fsmnvad/runtime/src/utils\n",
            "copying build/lib/fsmn-vad/fsmnvad/runtime/src/utils/AudioHelper.py -> build/bdist.linux-x86_64/egg/fsmn-vad/fsmnvad/runtime/src/utils\n",
            "copying build/lib/fsmn-vad/fsmnvad/runtime/src/utils/__init__.py -> build/bdist.linux-x86_64/egg/fsmn-vad/fsmnvad/runtime/src/utils\n",
            "copying build/lib/fsmn-vad/fsmnvad/runtime/src/utils/logger.py -> build/bdist.linux-x86_64/egg/fsmn-vad/fsmnvad/runtime/src/utils\n",
            "copying build/lib/fsmn-vad/fsmnvad/runtime/src/utils/tools.py -> build/bdist.linux-x86_64/egg/fsmn-vad/fsmnvad/runtime/src/utils\n",
            "copying build/lib/fsmn-vad/fsmnvad/runtime/src/__init__.py -> build/bdist.linux-x86_64/egg/fsmn-vad/fsmnvad/runtime/src\n",
            "copying build/lib/fsmn-vad/fsmnvad/runtime/__init__.py -> build/bdist.linux-x86_64/egg/fsmn-vad/fsmnvad/runtime\n",
            "copying build/lib/fsmn-vad/fsmnvad/fsmnvad.py -> build/bdist.linux-x86_64/egg/fsmn-vad/fsmnvad\n",
            "copying build/lib/fsmn-vad/setup.py -> build/bdist.linux-x86_64/egg/fsmn-vad\n",
            "creating build/bdist.linux-x86_64/egg/fsmn-vad/test\n",
            "copying build/lib/fsmn-vad/test/test.py -> build/bdist.linux-x86_64/egg/fsmn-vad/test\n",
            "creating build/bdist.linux-x86_64/egg/test\n",
            "copying build/lib/test/test.py -> build/bdist.linux-x86_64/egg/test\n",
            "byte-compiling build/bdist.linux-x86_64/egg/fsmnvad/__init__.py to __init__.cpython-310.pyc\n",
            "byte-compiling build/bdist.linux-x86_64/egg/fsmnvad/runtime/src/fsmnvad/Speech2VadSegmentOnline.py to Speech2VadSegmentOnline.cpython-310.pyc\n",
            "byte-compiling build/bdist.linux-x86_64/egg/fsmnvad/runtime/src/fsmnvad/Speech2VadSegmentOffline.py to Speech2VadSegmentOffline.cpython-310.pyc\n",
            "byte-compiling build/bdist.linux-x86_64/egg/fsmnvad/runtime/src/fsmnvad/__init__.py to __init__.cpython-310.pyc\n",
            "byte-compiling build/bdist.linux-x86_64/egg/fsmnvad/runtime/src/fsmnvad/VadOrtInferSession.py to VadOrtInferSession.cpython-310.pyc\n",
            "byte-compiling build/bdist.linux-x86_64/egg/fsmnvad/runtime/src/utils/WavFrontend.py to WavFrontend.cpython-310.pyc\n",
            "byte-compiling build/bdist.linux-x86_64/egg/fsmnvad/runtime/src/utils/test_onnx_vad.py to test_onnx_vad.cpython-310.pyc\n",
            "byte-compiling build/bdist.linux-x86_64/egg/fsmnvad/runtime/src/utils/AudioHelper.py to AudioHelper.cpython-310.pyc\n",
            "byte-compiling build/bdist.linux-x86_64/egg/fsmnvad/runtime/src/utils/__init__.py to __init__.cpython-310.pyc\n",
            "byte-compiling build/bdist.linux-x86_64/egg/fsmnvad/runtime/src/utils/logger.py to logger.cpython-310.pyc\n",
            "byte-compiling build/bdist.linux-x86_64/egg/fsmnvad/runtime/src/utils/tools.py to tools.cpython-310.pyc\n",
            "byte-compiling build/bdist.linux-x86_64/egg/fsmnvad/runtime/src/__init__.py to __init__.cpython-310.pyc\n",
            "byte-compiling build/bdist.linux-x86_64/egg/fsmnvad/runtime/__init__.py to __init__.cpython-310.pyc\n",
            "byte-compiling build/bdist.linux-x86_64/egg/fsmnvad/fsmnvad.py to fsmnvad.cpython-310.pyc\n",
            "byte-compiling build/bdist.linux-x86_64/egg/fsmn-vad/fsmnvad/__init__.py to __init__.cpython-310.pyc\n",
            "byte-compiling build/bdist.linux-x86_64/egg/fsmn-vad/fsmnvad/runtime/src/fsmnvad/Speech2VadSegmentOnline.py to Speech2VadSegmentOnline.cpython-310.pyc\n",
            "byte-compiling build/bdist.linux-x86_64/egg/fsmn-vad/fsmnvad/runtime/src/fsmnvad/Speech2VadSegmentOffline.py to Speech2VadSegmentOffline.cpython-310.pyc\n",
            "byte-compiling build/bdist.linux-x86_64/egg/fsmn-vad/fsmnvad/runtime/src/fsmnvad/__init__.py to __init__.cpython-310.pyc\n",
            "byte-compiling build/bdist.linux-x86_64/egg/fsmn-vad/fsmnvad/runtime/src/fsmnvad/VadOrtInferSession.py to VadOrtInferSession.cpython-310.pyc\n",
            "byte-compiling build/bdist.linux-x86_64/egg/fsmn-vad/fsmnvad/runtime/src/utils/WavFrontend.py to WavFrontend.cpython-310.pyc\n",
            "byte-compiling build/bdist.linux-x86_64/egg/fsmn-vad/fsmnvad/runtime/src/utils/test_onnx_vad.py to test_onnx_vad.cpython-310.pyc\n",
            "byte-compiling build/bdist.linux-x86_64/egg/fsmn-vad/fsmnvad/runtime/src/utils/AudioHelper.py to AudioHelper.cpython-310.pyc\n",
            "byte-compiling build/bdist.linux-x86_64/egg/fsmn-vad/fsmnvad/runtime/src/utils/__init__.py to __init__.cpython-310.pyc\n",
            "byte-compiling build/bdist.linux-x86_64/egg/fsmn-vad/fsmnvad/runtime/src/utils/logger.py to logger.cpython-310.pyc\n",
            "byte-compiling build/bdist.linux-x86_64/egg/fsmn-vad/fsmnvad/runtime/src/utils/tools.py to tools.cpython-310.pyc\n",
            "byte-compiling build/bdist.linux-x86_64/egg/fsmn-vad/fsmnvad/runtime/src/__init__.py to __init__.cpython-310.pyc\n",
            "byte-compiling build/bdist.linux-x86_64/egg/fsmn-vad/fsmnvad/runtime/__init__.py to __init__.cpython-310.pyc\n",
            "byte-compiling build/bdist.linux-x86_64/egg/fsmn-vad/fsmnvad/fsmnvad.py to fsmnvad.cpython-310.pyc\n",
            "byte-compiling build/bdist.linux-x86_64/egg/fsmn-vad/setup.py to setup.cpython-310.pyc\n",
            "byte-compiling build/bdist.linux-x86_64/egg/fsmn-vad/test/test.py to test.cpython-310.pyc\n",
            "byte-compiling build/bdist.linux-x86_64/egg/test/test.py to test.cpython-310.pyc\n",
            "creating build/bdist.linux-x86_64/egg/EGG-INFO\n",
            "copying fsmnvad.egg-info/PKG-INFO -> build/bdist.linux-x86_64/egg/EGG-INFO\n",
            "copying fsmnvad.egg-info/SOURCES.txt -> build/bdist.linux-x86_64/egg/EGG-INFO\n",
            "copying fsmnvad.egg-info/dependency_links.txt -> build/bdist.linux-x86_64/egg/EGG-INFO\n",
            "copying fsmnvad.egg-info/requires.txt -> build/bdist.linux-x86_64/egg/EGG-INFO\n",
            "copying fsmnvad.egg-info/top_level.txt -> build/bdist.linux-x86_64/egg/EGG-INFO\n",
            "zip_safe flag not set; analyzing archive contents...\n",
            "fsmn-vad.__pycache__.setup.cpython-310: module references __file__\n",
            "fsmn-vad.fsmnvad.__pycache__.fsmnvad.cpython-310: module references __file__\n",
            "fsmn-vad.fsmnvad.runtime.src.utils.__pycache__.WavFrontend.cpython-310: module references __file__\n",
            "fsmnvad.__pycache__.fsmnvad.cpython-310: module references __file__\n",
            "fsmnvad.runtime.src.utils.__pycache__.WavFrontend.cpython-310: module references __file__\n",
            "creating dist\n",
            "creating 'dist/fsmnvad-0.0.1-py3.10.egg' and adding 'build/bdist.linux-x86_64/egg' to it\n",
            "removing 'build/bdist.linux-x86_64/egg' (and everything under it)\n",
            "Processing fsmnvad-0.0.1-py3.10.egg\n",
            "removing '/usr/local/lib/python3.10/dist-packages/fsmnvad-0.0.1-py3.10.egg' (and everything under it)\n",
            "creating /usr/local/lib/python3.10/dist-packages/fsmnvad-0.0.1-py3.10.egg\n",
            "Extracting fsmnvad-0.0.1-py3.10.egg to /usr/local/lib/python3.10/dist-packages\n",
            "fsmnvad 0.0.1 is already the active version in easy-install.pth\n",
            "\n",
            "Installed /usr/local/lib/python3.10/dist-packages/fsmnvad-0.0.1-py3.10.egg\n",
            "Processing dependencies for fsmnvad==0.0.1\n",
            "Searching for onnxruntime==1.14.1\n",
            "Best match: onnxruntime 1.14.1\n",
            "Adding onnxruntime 1.14.1 to easy-install.pth file\n",
            "Installing onnxruntime_test script to /usr/local/bin\n",
            "\n",
            "Using /usr/local/lib/python3.10/dist-packages\n",
            "Searching for PyYAML==6.0\n",
            "Best match: PyYAML 6.0\n",
            "Adding PyYAML 6.0 to easy-install.pth file\n",
            "\n",
            "Using /usr/local/lib/python3.10/dist-packages\n",
            "Searching for kaldi-native-fbank==1.15\n",
            "Best match: kaldi-native-fbank 1.15\n",
            "Processing kaldi_native_fbank-1.15-py3.10-linux-x86_64.egg\n",
            "kaldi-native-fbank 1.15 is already the active version in easy-install.pth\n",
            "\n",
            "Using /usr/local/lib/python3.10/dist-packages/kaldi_native_fbank-1.15-py3.10-linux-x86_64.egg\n",
            "Searching for setuptools==65.0.0\n",
            "Best match: setuptools 65.0.0\n",
            "Processing setuptools-65.0.0-py3.10.egg\n",
            "setuptools 65.0.0 is already the active version in easy-install.pth\n",
            "\n",
            "Using /usr/local/lib/python3.10/dist-packages/setuptools-65.0.0-py3.10.egg\n",
            "Searching for sympy==1.11.1\n",
            "Best match: sympy 1.11.1\n",
            "Adding sympy 1.11.1 to easy-install.pth file\n",
            "Installing isympy script to /usr/local/bin\n",
            "\n",
            "Using /usr/local/lib/python3.10/dist-packages\n",
            "Searching for protobuf==3.20.3\n",
            "Best match: protobuf 3.20.3\n",
            "Adding protobuf 3.20.3 to easy-install.pth file\n",
            "\n",
            "Using /usr/local/lib/python3.10/dist-packages\n",
            "Searching for packaging==23.1\n",
            "Best match: packaging 23.1\n",
            "Adding packaging 23.1 to easy-install.pth file\n",
            "\n",
            "Using /usr/local/lib/python3.10/dist-packages\n",
            "Searching for numpy==1.22.4\n",
            "Best match: numpy 1.22.4\n",
            "Adding numpy 1.22.4 to easy-install.pth file\n",
            "Installing f2py script to /usr/local/bin\n",
            "Installing f2py3 script to /usr/local/bin\n",
            "Installing f2py3.10 script to /usr/local/bin\n",
            "\n",
            "Using /usr/local/lib/python3.10/dist-packages\n",
            "Searching for flatbuffers==23.3.3\n",
            "Best match: flatbuffers 23.3.3\n",
            "Adding flatbuffers 23.3.3 to easy-install.pth file\n",
            "\n",
            "Using /usr/local/lib/python3.10/dist-packages\n",
            "Searching for coloredlogs==15.0.1\n",
            "Best match: coloredlogs 15.0.1\n",
            "Processing coloredlogs-15.0.1-py3.10.egg\n",
            "coloredlogs 15.0.1 is already the active version in easy-install.pth\n",
            "Installing coloredlogs script to /usr/local/bin\n",
            "\n",
            "Using /usr/local/lib/python3.10/dist-packages/coloredlogs-15.0.1-py3.10.egg\n",
            "Searching for mpmath==1.3.0\n",
            "Best match: mpmath 1.3.0\n",
            "Adding mpmath 1.3.0 to easy-install.pth file\n",
            "\n",
            "Using /usr/local/lib/python3.10/dist-packages\n",
            "Searching for humanfriendly==10.0\n",
            "Best match: humanfriendly 10.0\n",
            "Processing humanfriendly-10.0-py3.10.egg\n",
            "humanfriendly 10.0 is already the active version in easy-install.pth\n",
            "Installing humanfriendly script to /usr/local/bin\n",
            "\n",
            "Using /usr/local/lib/python3.10/dist-packages/humanfriendly-10.0-py3.10.egg\n",
            "Finished processing dependencies for fsmnvad==0.0.1\n"
          ]
        }
      ],
      "source": [
        "!git clone https://github.com/lovemefan/fsmn-vad\n",
        "!cd fsmn-vad\n",
        "!python /content/fsmn-vad/setup.py install"
      ]
    },
    {
      "cell_type": "code",
      "source": [
        "import os\n",
        "os.chdir(\"/content/fsmn-vad\")"
      ],
      "metadata": {
        "id": "hPfa0qY5g1HS"
      },
      "execution_count": null,
      "outputs": []
    },
    {
      "cell_type": "code",
      "source": [
        "!pwd"
      ],
      "metadata": {
        "colab": {
          "base_uri": "https://localhost:8080/"
        },
        "id": "bQtRfbfTgZq7",
        "outputId": "0e143674-1b23-4fea-b910-2ff37caaedfb"
      },
      "execution_count": null,
      "outputs": [
        {
          "output_type": "stream",
          "name": "stdout",
          "text": [
            "/content/fsmn-vad\n"
          ]
        }
      ]
    },
    {
      "cell_type": "code",
      "source": [
        "!pip install onnxruntime==1.14.1\n",
        "!pip install setuptools==65.0"
      ],
      "metadata": {
        "colab": {
          "base_uri": "https://localhost:8080/"
        },
        "id": "3XzVe4Thjvhx",
        "outputId": "22023f00-8059-41d9-8c35-c2d4faa85c81"
      },
      "execution_count": null,
      "outputs": [
        {
          "output_type": "stream",
          "name": "stdout",
          "text": [
            "Looking in indexes: https://pypi.org/simple, https://us-python.pkg.dev/colab-wheels/public/simple/\n",
            "Requirement already satisfied: onnxruntime==1.14.1 in /usr/local/lib/python3.10/dist-packages (1.14.1)\n",
            "Requirement already satisfied: coloredlogs in /usr/local/lib/python3.10/dist-packages/coloredlogs-15.0.1-py3.10.egg (from onnxruntime==1.14.1) (15.0.1)\n",
            "Requirement already satisfied: flatbuffers in /usr/local/lib/python3.10/dist-packages (from onnxruntime==1.14.1) (23.3.3)\n",
            "Requirement already satisfied: numpy>=1.21.6 in /usr/local/lib/python3.10/dist-packages (from onnxruntime==1.14.1) (1.22.4)\n",
            "Requirement already satisfied: packaging in /usr/local/lib/python3.10/dist-packages (from onnxruntime==1.14.1) (23.1)\n",
            "Requirement already satisfied: protobuf in /usr/local/lib/python3.10/dist-packages (from onnxruntime==1.14.1) (3.20.3)\n",
            "Requirement already satisfied: sympy in /usr/local/lib/python3.10/dist-packages (from onnxruntime==1.14.1) (1.11.1)\n",
            "Requirement already satisfied: humanfriendly>=9.1 in /usr/local/lib/python3.10/dist-packages/humanfriendly-10.0-py3.10.egg (from coloredlogs->onnxruntime==1.14.1) (10.0)\n",
            "Requirement already satisfied: mpmath>=0.19 in /usr/local/lib/python3.10/dist-packages (from sympy->onnxruntime==1.14.1) (1.3.0)\n",
            "Looking in indexes: https://pypi.org/simple, https://us-python.pkg.dev/colab-wheels/public/simple/\n",
            "Requirement already satisfied: setuptools==65.0 in /usr/local/lib/python3.10/dist-packages (65.0.0)\n"
          ]
        }
      ]
    },
    {
      "cell_type": "code",
      "source": [
        "from fsmnvad import FSMNVad\n",
        "from pathlib import Path\n",
        "vad = FSMNVad()\n",
        "segments = vad.segments_offline(Path(\"/content/fsmn-vad/test/vad_example.wav\"))\n",
        "print(segments)"
      ],
      "metadata": {
        "colab": {
          "base_uri": "https://localhost:8080/"
        },
        "id": "2rGEDoivCCpU",
        "outputId": "f098c71d-e09f-43c5-f00a-8f4b768447ac"
      },
      "execution_count": null,
      "outputs": [
        {
          "output_type": "stream",
          "name": "stdout",
          "text": [
            "[[70, 2340], [2620, 6200], [6480, 23670], [23950, 26250], [26780, 28990], [29950, 31430], [31750, 37600], [38210, 46900], [47310, 49630], [49910, 56460], [56740, 59540], [59820, 70660]]\n"
          ]
        }
      ]
    },
    {
      "cell_type": "code",
      "source": [
        "from fsmnvad import FSMNVadOnline\n",
        "from fsmnvad import AudioReader\n",
        "in_cache = []\n",
        "speech, sample_rate = AudioReader.read_wav_file('/content/fsmn-vad/test/vad_example.wav')\n",
        "speech_length = speech.shape[0]\n",
        "\n",
        "sample_offset = 0\n",
        "step = 1600\n",
        "vad_online = FSMNVadOnline()\n",
        "\n",
        "for sample_offset in range(0, speech_length, min(step, speech_length - sample_offset)):\n",
        "    if sample_offset + step >= speech_length - 1:\n",
        "        step = speech_length - sample_offset\n",
        "        is_final = True\n",
        "    else:\n",
        "        is_final = False\n",
        "    segments_result, in_cache = vad_online.segments_online(\n",
        "        speech[sample_offset: sample_offset + step],\n",
        "        in_cache=in_cache, is_final=is_final)\n",
        "    if segments_result:\n",
        "        print(segments_result)"
      ],
      "metadata": {
        "colab": {
          "base_uri": "https://localhost:8080/"
        },
        "id": "Y9BcW-7GmES0",
        "outputId": "4bdbc372-2c45-4b80-93f5-4e98b544f0a4"
      },
      "execution_count": null,
      "outputs": [
        {
          "output_type": "stream",
          "name": "stdout",
          "text": [
            "[[70, 560]]\n",
            "[[70, 2340]]\n",
            "[[2620, 3060]]\n",
            "[[2620, 6220]]\n",
            "[[6500, 6960]]\n",
            "[[6500, 23590]]\n",
            "[[23870, 24360]]\n",
            "[[23870, 26150]]\n",
            "[[26780, 27260]]\n",
            "[[26780, 29050]]\n",
            "[[29950, 30360]]\n",
            "[[29950, 31440]]\n",
            "[[31750, 32160]]\n",
            "[[31750, 37670]]\n",
            "[[38210, 38660]]\n",
            "[[38210, 46990]]\n",
            "[[47310, 47760]]\n",
            "[[47310, 49640]]\n",
            "[[49920, 50360]]\n",
            "[[49920, 56540]]\n",
            "[[56820, 57260]]\n",
            "[[56820, 70640]]\n"
          ]
        }
      ]
    }
  ]
}